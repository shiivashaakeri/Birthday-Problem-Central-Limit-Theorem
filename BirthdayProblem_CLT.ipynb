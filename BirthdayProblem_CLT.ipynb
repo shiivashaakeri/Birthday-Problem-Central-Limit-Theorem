{
  "nbformat": 4,
  "nbformat_minor": 0,
  "metadata": {
    "colab": {
      "name": "IS_HW4_Q4",
      "provenance": [],
      "collapsed_sections": []
    },
    "kernelspec": {
      "name": "python3",
      "display_name": "Python 3"
    },
    "language_info": {
      "name": "python"
    }
  },
  "cells": [
    {
      "cell_type": "markdown",
      "source": [
        "# Question 4-B\n",
        "\n",
        "> Part 'B-1': *Birthday Problem*\n"
      ],
      "metadata": {
        "id": "p6JB-xZXirjs"
      }
    },
    {
      "cell_type": "code",
      "source": [
        "import random\n",
        "import matplotlib.pyplot as plt\n",
        "import seaborn as sns"
      ],
      "metadata": {
        "id": "NalYgLAVkraZ"
      },
      "execution_count": 14,
      "outputs": []
    },
    {
      "cell_type": "code",
      "source": [
        "#generating random birthday\n",
        "\n",
        "def genRandomBirthday(days=365):\n",
        "  birthday = random.randint(1,days) #random day in 365 days in a year\n",
        "  return birthday"
      ],
      "metadata": {
        "id": "nFkeS4YFi1rW"
      },
      "execution_count": null,
      "outputs": []
    },
    {
      "cell_type": "code",
      "source": [
        "\n",
        "#k is the amount of people\n",
        " \n",
        "def genBirthdays(k):\n",
        "    birthdays = [genRandomBirthday() for _ in range(k)]\n",
        "    return birthdays"
      ],
      "metadata": {
        "id": "-etD0MjZl_fd"
      },
      "execution_count": null,
      "outputs": []
    },
    {
      "cell_type": "code",
      "source": [
        "#checking birthday similarity\n",
        "def uniqueBirthday(birthdays):\n",
        "    unique_birthdays = set(birthdays)\n",
        " \n",
        "    num_birthdays = len(birthdays)\n",
        "    num_unique_birthdays = len(unique_birthdays)\n",
        "    has_coincidence = (num_birthdays != num_unique_birthdays)\n",
        " \n",
        "    return has_coincidence"
      ],
      "metadata": {
        "id": "geof8X6dn7k1"
      },
      "execution_count": null,
      "outputs": []
    },
    {
      "cell_type": "code",
      "source": [
        "def estimateUnique(k):\n",
        "    num_aloc = 0\n",
        "    for _ in range(10000):\n",
        "        birthdays = genBirthdays(k)\n",
        "        has_coincidence = uniqueBirthday(birthdays)\n",
        "        if has_coincidence:\n",
        "            num_aloc += 1\n",
        " \n",
        "    p_aloc = num_aloc / 10000\n",
        "    return p_aloc"
      ],
      "metadata": {
        "id": "CZIV0IBwqSic"
      },
      "execution_count": null,
      "outputs": []
    },
    {
      "cell_type": "code",
      "source": [
        "def estimate_p_aloc_for_range(ks):\n",
        "    k_probabilities = []\n",
        " \n",
        "    for k in ks:\n",
        "        p_aloc = estimateUnique(k)\n",
        "        k_probabilities.append(p_aloc)\n",
        "         \n",
        "    return k_probabilities"
      ],
      "metadata": {
        "id": "_2esDgX1qzUa"
      },
      "execution_count": null,
      "outputs": []
    },
    {
      "cell_type": "code",
      "source": [
        "ks = range(2, 100 )\n",
        "k_probabilities = estimate_p_aloc_for_range(ks)\n",
        " "
      ],
      "metadata": {
        "id": "ZKiL3ijGq9hg"
      },
      "execution_count": 13,
      "outputs": []
    },
    {
      "cell_type": "code",
      "source": [
        "fig, ax = plt.subplots(figsize=(10, 10), dpi=49)\n",
        "\n",
        "ax.xaxis.set_tick_params(width=5)\n",
        "ax.yaxis.set_tick_params(width=5)\n",
        " \n",
        "sns.lineplot(x=ks, y=k_probabilities)\n",
        " \n",
        "plt.xticks(fontsize=15)\n",
        "y_range = [0, 0.1, 0.2, 0.3, 0.4, 0.5, 0.6, 0.7, 0.8, 0.9, 1]\n",
        "plt.yticks(y_range, fontsize=15)\n",
        "plt.grid()\n",
        "plt.xlim([0, 100])\n",
        "plt.ylim([0, 1])\n",
        "plt.xlabel('Number of people', fontsize=30)\n",
        "plt.ylabel('P(At Least One Coincidence)', fontsize=30)\n",
        " \n",
        "plt.show()"
      ],
      "metadata": {
        "colab": {
          "base_uri": "https://localhost:8080/",
          "height": 437
        },
        "id": "4xrZ2wRHrl2d",
        "outputId": "b12315a4-434b-4bc9-e1df-d12ff4e99a48"
      },
      "execution_count": null,
      "outputs": [
        {
          "output_type": "display_data",
          "data": {
            "image/png": "[encoded data removed]",
            "text/plain": [
              "<Figure size 490x490 with 1 Axes>"
            ]
          },
          "metadata": {
            "needs_background": "light"
          }
        }
      ]
    },
    {
      "cell_type": "markdown",
      "source": [
        "> Part 'B-2': *Central Limit Theorem*"
      ],
      "metadata": {
        "id": "Canq97Zf4hc2"
      }
    },
    {
      "cell_type": "code",
      "source": [
        "import numpy as np\n",
        "import pandas as pd"
      ],
      "metadata": {
        "id": "2at-uRCP4pNp"
      },
      "execution_count": null,
      "outputs": []
    },
    {
      "cell_type": "markdown",
      "source": [
        "\n",
        "\n",
        "```\n",
        "Normal Distribution:\n",
        "```\n"
      ],
      "metadata": {
        "id": "kP-qJ6s7-GRS"
      }
    },
    {
      "cell_type": "code",
      "source": [
        "rate = 2\n",
        "#Population mean\n",
        "mu = 1/rate\n",
        "# Population standard deviation\n",
        "sd = np.sqrt(1/(rate**2))\n",
        "print('Population mean:', mu)\n",
        "print('Population standard deviation:', sd)"
      ],
      "metadata": {
        "colab": {
          "base_uri": "https://localhost:8080/"
        },
        "id": "HFq1erjp8C09",
        "outputId": "75e74405-5173-410b-b313-242d53dc015c"
      },
      "execution_count": null,
      "outputs": [
        {
          "output_type": "stream",
          "name": "stdout",
          "text": [
            "Population mean: 0.5\n",
            "Population standard deviation: 0.5\n"
          ]
        }
      ]
    },
    {
      "cell_type": "code",
      "source": [
        "def expSampling (sample_size, sample_iter):\n",
        "  df = pd.DataFrame()\n",
        "\n",
        "  for i in range(1, sample_iter+1):\n",
        "    exp_sample = np.random.exponential((1/rate), sample_size)\n",
        "    col = f'sample {i}'\n",
        "    df[col] = exp_sample\n",
        "\n",
        "\n",
        "  df_sample_means = pd.DataFrame(df.mean(),columns=['Sample means'])\n",
        "  sns.distplot(df_sample_means);\n",
        "  mean = np.mean(df_sample_means).values[0] # An estimate of the mean of the sampling distribution can be obtained as:\n",
        "  clt = sd/ np.sqrt(sample_size)\n",
        "  return mean, clt\n",
        "# sampling(2, 50)\n",
        "print(expSampling(500 ,50))"
      ],
      "metadata": {
        "colab": {
          "base_uri": "https://localhost:8080/",
          "height": 336
        },
        "id": "NCGqMvFn-wiu",
        "outputId": "d6d7702b-ecce-40e0-a6b3-df1b8a1493d9"
      },
      "execution_count": null,
      "outputs": [
        {
          "output_type": "stream",
          "name": "stderr",
          "text": [
            "/usr/local/lib/python3.7/dist-packages/seaborn/distributions.py:2619: FutureWarning: `distplot` is a deprecated function and will be removed in a future version. Please adapt your code to use either `displot` (a figure-level function with similar flexibility) or `histplot` (an axes-level function for histograms).\n",
            "  warnings.warn(msg, FutureWarning)\n"
          ]
        },
        {
          "output_type": "stream",
          "name": "stdout",
          "text": [
            "(0.5013173621695232, 0.022360679774997897)\n"
          ]
        },
        {
          "output_type": "display_data",
          "data": {
            "image/png": "[encoded data removed]",
            "text/plain": [
              "<Figure size 432x288 with 1 Axes>"
            ]
          },
          "metadata": {
            "needs_background": "light"
          }
        }
      ]
    },
    {
      "cell_type": "markdown",
      "source": [
        "\n",
        "\n",
        "```\n",
        "Binomial:\n",
        "```\n",
        "\n"
      ],
      "metadata": {
        "id": "Zura35urFhCc"
      }
    },
    {
      "cell_type": "code",
      "source": [
        "def binSampling(sample_size, sample_iter):\n",
        "  df = pd.DataFrame()\n",
        "\n",
        "  for i in range(1, sample_iter+1):\n",
        "    exponential_sample = np.random.binomial(20,0.8, sample_size)\n",
        "    col = f'sample {i}'\n",
        "    df[col] = exponential_sample\n",
        "\n",
        "# Plotting the sampling distribution from a \n",
        "  df_sample_means_binomial = pd.DataFrame(df.mean(),columns=['Sample means'])\n",
        "  sns.distplot(df_sample_means_binomial)\n",
        "  sample_mean = df_sample_means_binomial.mean().values[0]\n",
        "  sample_std = df_sample_means_binomial.std().values[0]\n",
        "  return sample_mean, sample_std\n",
        "\n",
        "print(binSampling(1000, 50))"
      ],
      "metadata": {
        "colab": {
          "base_uri": "https://localhost:8080/",
          "height": 336
        },
        "id": "Dwy9fyXFGfiP",
        "outputId": "fbd6e439-7253-45f2-f44e-132a8c3d55a8"
      },
      "execution_count": null,
      "outputs": [
        {
          "output_type": "stream",
          "name": "stderr",
          "text": [
            "/usr/local/lib/python3.7/dist-packages/seaborn/distributions.py:2619: FutureWarning: `distplot` is a deprecated function and will be removed in a future version. Please adapt your code to use either `displot` (a figure-level function with similar flexibility) or `histplot` (an axes-level function for histograms).\n",
            "  warnings.warn(msg, FutureWarning)\n"
          ]
        },
        {
          "output_type": "stream",
          "name": "stdout",
          "text": [
            "(16.003020000000003, 0.05376156354018826)\n"
          ]
        },
        {
          "output_type": "display_data",
          "data": {
            "image/png": "[encoded data removed]",
            "text/plain": [
              "<Figure size 432x288 with 1 Axes>"
            ]
          },
          "metadata": {
            "needs_background": "light"
          }
        }
      ]
    }
  ]
}